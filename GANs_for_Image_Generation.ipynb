{
 "cells": [
  {
   "cell_type": "code",
   "execution_count": 1,
   "id": "bbf999ed",
   "metadata": {
    "execution": {
     "iopub.execute_input": "2025-04-23T13:00:04.211036Z",
     "iopub.status.busy": "2025-04-23T13:00:04.210722Z",
     "iopub.status.idle": "2025-04-23T15:03:34.248116Z",
     "shell.execute_reply": "2025-04-23T15:03:34.247116Z"
    },
    "papermill": {
     "duration": 7410.042331,
     "end_time": "2025-04-23T15:03:34.249850",
     "exception": false,
     "start_time": "2025-04-23T13:00:04.207519",
     "status": "completed"
    },
    "tags": []
   },
   "outputs": [
    {
     "name": "stderr",
     "output_type": "stream",
     "text": [
      "2025-04-23 13:00:13.683951: E external/local_xla/xla/stream_executor/cuda/cuda_fft.cc:477] Unable to register cuFFT factory: Attempting to register factory for plugin cuFFT when one has already been registered\n",
      "WARNING: All log messages before absl::InitializeLog() is called are written to STDERR\n",
      "E0000 00:00:1745413213.843162      19 cuda_dnn.cc:8310] Unable to register cuDNN factory: Attempting to register factory for plugin cuDNN when one has already been registered\n",
      "E0000 00:00:1745413213.889428      19 cuda_blas.cc:1418] Unable to register cuBLAS factory: Attempting to register factory for plugin cuBLAS when one has already been registered\n"
     ]
    },
    {
     "name": "stdout",
     "output_type": "stream",
     "text": [
      "Downloading http://fashion-mnist.s3-website.eu-central-1.amazonaws.com/train-images-idx3-ubyte.gz\n",
      "Downloading http://fashion-mnist.s3-website.eu-central-1.amazonaws.com/train-images-idx3-ubyte.gz to dataset/FashionMNIST/raw/train-images-idx3-ubyte.gz\n"
     ]
    },
    {
     "name": "stderr",
     "output_type": "stream",
     "text": [
      "100%|██████████| 26.4M/26.4M [00:03<00:00, 7.61MB/s]\n"
     ]
    },
    {
     "name": "stdout",
     "output_type": "stream",
     "text": [
      "Extracting dataset/FashionMNIST/raw/train-images-idx3-ubyte.gz to dataset/FashionMNIST/raw\n",
      "\n",
      "Downloading http://fashion-mnist.s3-website.eu-central-1.amazonaws.com/train-labels-idx1-ubyte.gz\n",
      "Downloading http://fashion-mnist.s3-website.eu-central-1.amazonaws.com/train-labels-idx1-ubyte.gz to dataset/FashionMNIST/raw/train-labels-idx1-ubyte.gz\n"
     ]
    },
    {
     "name": "stderr",
     "output_type": "stream",
     "text": [
      "100%|██████████| 29.5k/29.5k [00:00<00:00, 139kB/s]\n"
     ]
    },
    {
     "name": "stdout",
     "output_type": "stream",
     "text": [
      "Extracting dataset/FashionMNIST/raw/train-labels-idx1-ubyte.gz to dataset/FashionMNIST/raw\n",
      "\n",
      "Downloading http://fashion-mnist.s3-website.eu-central-1.amazonaws.com/t10k-images-idx3-ubyte.gz\n",
      "Downloading http://fashion-mnist.s3-website.eu-central-1.amazonaws.com/t10k-images-idx3-ubyte.gz to dataset/FashionMNIST/raw/t10k-images-idx3-ubyte.gz\n"
     ]
    },
    {
     "name": "stderr",
     "output_type": "stream",
     "text": [
      "100%|██████████| 4.42M/4.42M [00:01<00:00, 2.51MB/s]\n"
     ]
    },
    {
     "name": "stdout",
     "output_type": "stream",
     "text": [
      "Extracting dataset/FashionMNIST/raw/t10k-images-idx3-ubyte.gz to dataset/FashionMNIST/raw\n",
      "\n",
      "Downloading http://fashion-mnist.s3-website.eu-central-1.amazonaws.com/t10k-labels-idx1-ubyte.gz\n",
      "Downloading http://fashion-mnist.s3-website.eu-central-1.amazonaws.com/t10k-labels-idx1-ubyte.gz to dataset/FashionMNIST/raw/t10k-labels-idx1-ubyte.gz\n"
     ]
    },
    {
     "name": "stderr",
     "output_type": "stream",
     "text": [
      "100%|██████████| 5.15k/5.15k [00:00<00:00, 12.4MB/s]\n"
     ]
    },
    {
     "name": "stdout",
     "output_type": "stream",
     "text": [
      "Extracting dataset/FashionMNIST/raw/t10k-labels-idx1-ubyte.gz to dataset/FashionMNIST/raw\n",
      "\n",
      "Start training...\n"
     ]
    },
    {
     "name": "stderr",
     "output_type": "stream",
     "text": [
      "Epoch 0:   0%|          | 0/59 [00:00<?, ?it/s]"
     ]
    },
    {
     "name": "stdout",
     "output_type": "stream",
     "text": [
      "Epoch: 0 ===== Batch: 0/59 ===== Disc loss: 1.3884 ===== Gen loss: 5.8818\n"
     ]
    },
    {
     "name": "stderr",
     "output_type": "stream",
     "text": [
      "Epoch 0:  86%|████████▋ | 51/59 [01:59<00:20,  2.58s/it]"
     ]
    },
    {
     "name": "stdout",
     "output_type": "stream",
     "text": [
      "Epoch: 0 ===== Batch: 50/59 ===== Disc loss: 0.7427 ===== Gen loss: 2.7016\n"
     ]
    },
    {
     "name": "stderr",
     "output_type": "stream",
     "text": [
      "Epoch 0: 100%|██████████| 59/59 [02:18<00:00,  2.35s/it]\n",
      "Epoch 1:   2%|▏         | 1/59 [00:03<02:54,  3.01s/it]"
     ]
    },
    {
     "name": "stdout",
     "output_type": "stream",
     "text": [
      "Epoch: 1 ===== Batch: 0/59 ===== Disc loss: 4.9010 ===== Gen loss: 3.2427\n"
     ]
    },
    {
     "name": "stderr",
     "output_type": "stream",
     "text": [
      "Epoch 1:  86%|████████▋ | 51/59 [02:07<00:20,  2.54s/it]"
     ]
    },
    {
     "name": "stdout",
     "output_type": "stream",
     "text": [
      "Epoch: 1 ===== Batch: 50/59 ===== Disc loss: 0.7456 ===== Gen loss: 2.1578\n"
     ]
    },
    {
     "name": "stderr",
     "output_type": "stream",
     "text": [
      "Epoch 1: 100%|██████████| 59/59 [02:26<00:00,  2.49s/it]\n",
      "Epoch 2:   2%|▏         | 1/59 [00:03<03:00,  3.12s/it]"
     ]
    },
    {
     "name": "stdout",
     "output_type": "stream",
     "text": [
      "Epoch: 2 ===== Batch: 0/59 ===== Disc loss: 1.0038 ===== Gen loss: 3.7746\n"
     ]
    },
    {
     "name": "stderr",
     "output_type": "stream",
     "text": [
      "Epoch 2:  86%|████████▋ | 51/59 [02:08<00:20,  2.55s/it]"
     ]
    },
    {
     "name": "stdout",
     "output_type": "stream",
     "text": [
      "Epoch: 2 ===== Batch: 50/59 ===== Disc loss: 1.1447 ===== Gen loss: 1.4508\n"
     ]
    },
    {
     "name": "stderr",
     "output_type": "stream",
     "text": [
      "Epoch 2: 100%|██████████| 59/59 [02:27<00:00,  2.51s/it]\n",
      "Epoch 3:   2%|▏         | 1/59 [00:03<02:55,  3.02s/it]"
     ]
    },
    {
     "name": "stdout",
     "output_type": "stream",
     "text": [
      "Epoch: 3 ===== Batch: 0/59 ===== Disc loss: 1.4702 ===== Gen loss: 1.0909\n"
     ]
    },
    {
     "name": "stderr",
     "output_type": "stream",
     "text": [
      "Epoch 3:  86%|████████▋ | 51/59 [02:08<00:20,  2.56s/it]"
     ]
    },
    {
     "name": "stdout",
     "output_type": "stream",
     "text": [
      "Epoch: 3 ===== Batch: 50/59 ===== Disc loss: 1.2188 ===== Gen loss: 1.1054\n"
     ]
    },
    {
     "name": "stderr",
     "output_type": "stream",
     "text": [
      "Epoch 3: 100%|██████████| 59/59 [02:27<00:00,  2.50s/it]\n",
      "Epoch 4:   2%|▏         | 1/59 [00:03<02:55,  3.02s/it]"
     ]
    },
    {
     "name": "stdout",
     "output_type": "stream",
     "text": [
      "Epoch: 4 ===== Batch: 0/59 ===== Disc loss: 1.4430 ===== Gen loss: 3.1570\n"
     ]
    },
    {
     "name": "stderr",
     "output_type": "stream",
     "text": [
      "Epoch 4:  86%|████████▋ | 51/59 [02:08<00:20,  2.56s/it]"
     ]
    },
    {
     "name": "stdout",
     "output_type": "stream",
     "text": [
      "Epoch: 4 ===== Batch: 50/59 ===== Disc loss: 1.2753 ===== Gen loss: 0.9956\n"
     ]
    },
    {
     "name": "stderr",
     "output_type": "stream",
     "text": [
      "Epoch 4: 100%|██████████| 59/59 [02:27<00:00,  2.51s/it]\n",
      "Epoch 5:   2%|▏         | 1/59 [00:03<02:54,  3.02s/it]"
     ]
    },
    {
     "name": "stdout",
     "output_type": "stream",
     "text": [
      "Epoch: 5 ===== Batch: 0/59 ===== Disc loss: 1.2248 ===== Gen loss: 1.2157\n"
     ]
    },
    {
     "name": "stderr",
     "output_type": "stream",
     "text": [
      "Epoch 5:  86%|████████▋ | 51/59 [02:08<00:20,  2.56s/it]"
     ]
    },
    {
     "name": "stdout",
     "output_type": "stream",
     "text": [
      "Epoch: 5 ===== Batch: 50/59 ===== Disc loss: 1.3467 ===== Gen loss: 0.8701\n"
     ]
    },
    {
     "name": "stderr",
     "output_type": "stream",
     "text": [
      "Epoch 5: 100%|██████████| 59/59 [02:27<00:00,  2.51s/it]\n",
      "Epoch 6:   2%|▏         | 1/59 [00:03<02:54,  3.00s/it]"
     ]
    },
    {
     "name": "stdout",
     "output_type": "stream",
     "text": [
      "Epoch: 6 ===== Batch: 0/59 ===== Disc loss: 1.3792 ===== Gen loss: 1.3156\n"
     ]
    },
    {
     "name": "stderr",
     "output_type": "stream",
     "text": [
      "Epoch 6:  86%|████████▋ | 51/59 [02:08<00:20,  2.56s/it]"
     ]
    },
    {
     "name": "stdout",
     "output_type": "stream",
     "text": [
      "Epoch: 6 ===== Batch: 50/59 ===== Disc loss: 1.2258 ===== Gen loss: 1.1522\n"
     ]
    },
    {
     "name": "stderr",
     "output_type": "stream",
     "text": [
      "Epoch 6: 100%|██████████| 59/59 [02:28<00:00,  2.51s/it]\n",
      "Epoch 7:   2%|▏         | 1/59 [00:03<02:55,  3.02s/it]"
     ]
    },
    {
     "name": "stdout",
     "output_type": "stream",
     "text": [
      "Epoch: 7 ===== Batch: 0/59 ===== Disc loss: 1.2812 ===== Gen loss: 1.2719\n"
     ]
    },
    {
     "name": "stderr",
     "output_type": "stream",
     "text": [
      "Epoch 7:  86%|████████▋ | 51/59 [02:08<00:20,  2.55s/it]"
     ]
    },
    {
     "name": "stdout",
     "output_type": "stream",
     "text": [
      "Epoch: 7 ===== Batch: 50/59 ===== Disc loss: 1.2086 ===== Gen loss: 1.1863\n"
     ]
    },
    {
     "name": "stderr",
     "output_type": "stream",
     "text": [
      "Epoch 7: 100%|██████████| 59/59 [02:28<00:00,  2.51s/it]\n",
      "Epoch 8:   2%|▏         | 1/59 [00:03<02:55,  3.02s/it]"
     ]
    },
    {
     "name": "stdout",
     "output_type": "stream",
     "text": [
      "Epoch: 8 ===== Batch: 0/59 ===== Disc loss: 1.3759 ===== Gen loss: 2.2510\n"
     ]
    },
    {
     "name": "stderr",
     "output_type": "stream",
     "text": [
      "Epoch 8:  86%|████████▋ | 51/59 [02:08<00:20,  2.55s/it]"
     ]
    },
    {
     "name": "stdout",
     "output_type": "stream",
     "text": [
      "Epoch: 8 ===== Batch: 50/59 ===== Disc loss: 1.1721 ===== Gen loss: 1.4448\n"
     ]
    },
    {
     "name": "stderr",
     "output_type": "stream",
     "text": [
      "Epoch 8: 100%|██████████| 59/59 [02:27<00:00,  2.51s/it]\n",
      "Epoch 9:   2%|▏         | 1/59 [00:03<02:55,  3.02s/it]"
     ]
    },
    {
     "name": "stdout",
     "output_type": "stream",
     "text": [
      "Epoch: 9 ===== Batch: 0/59 ===== Disc loss: 1.2685 ===== Gen loss: 1.8000\n"
     ]
    },
    {
     "name": "stderr",
     "output_type": "stream",
     "text": [
      "Epoch 9:  86%|████████▋ | 51/59 [02:08<00:20,  2.55s/it]"
     ]
    },
    {
     "name": "stdout",
     "output_type": "stream",
     "text": [
      "Epoch: 9 ===== Batch: 50/59 ===== Disc loss: 1.7696 ===== Gen loss: 0.5575\n"
     ]
    },
    {
     "name": "stderr",
     "output_type": "stream",
     "text": [
      "Epoch 9: 100%|██████████| 59/59 [02:27<00:00,  2.51s/it]\n",
      "Epoch 10:   2%|▏         | 1/59 [00:03<02:54,  3.01s/it]"
     ]
    },
    {
     "name": "stdout",
     "output_type": "stream",
     "text": [
      "Epoch: 10 ===== Batch: 0/59 ===== Disc loss: 1.2907 ===== Gen loss: 0.8583\n"
     ]
    },
    {
     "name": "stderr",
     "output_type": "stream",
     "text": [
      "Epoch 10:  86%|████████▋ | 51/59 [02:08<00:20,  2.56s/it]"
     ]
    },
    {
     "name": "stdout",
     "output_type": "stream",
     "text": [
      "Epoch: 10 ===== Batch: 50/59 ===== Disc loss: 1.3138 ===== Gen loss: 1.3600\n"
     ]
    },
    {
     "name": "stderr",
     "output_type": "stream",
     "text": [
      "Epoch 10: 100%|██████████| 59/59 [02:28<00:00,  2.51s/it]\n",
      "Epoch 11:   2%|▏         | 1/59 [00:03<02:55,  3.02s/it]"
     ]
    },
    {
     "name": "stdout",
     "output_type": "stream",
     "text": [
      "Epoch: 11 ===== Batch: 0/59 ===== Disc loss: 1.3023 ===== Gen loss: 1.6476\n"
     ]
    },
    {
     "name": "stderr",
     "output_type": "stream",
     "text": [
      "Epoch 11:  86%|████████▋ | 51/59 [02:08<00:20,  2.54s/it]"
     ]
    },
    {
     "name": "stdout",
     "output_type": "stream",
     "text": [
      "Epoch: 11 ===== Batch: 50/59 ===== Disc loss: 1.2044 ===== Gen loss: 1.1728\n"
     ]
    },
    {
     "name": "stderr",
     "output_type": "stream",
     "text": [
      "Epoch 11: 100%|██████████| 59/59 [02:27<00:00,  2.50s/it]\n",
      "Epoch 12:   2%|▏         | 1/59 [00:02<02:53,  2.99s/it]"
     ]
    },
    {
     "name": "stdout",
     "output_type": "stream",
     "text": [
      "Epoch: 12 ===== Batch: 0/59 ===== Disc loss: 1.3230 ===== Gen loss: 1.3568\n"
     ]
    },
    {
     "name": "stderr",
     "output_type": "stream",
     "text": [
      "Epoch 12:  86%|████████▋ | 51/59 [02:08<00:20,  2.55s/it]"
     ]
    },
    {
     "name": "stdout",
     "output_type": "stream",
     "text": [
      "Epoch: 12 ===== Batch: 50/59 ===== Disc loss: 1.4037 ===== Gen loss: 1.5421\n"
     ]
    },
    {
     "name": "stderr",
     "output_type": "stream",
     "text": [
      "Epoch 12: 100%|██████████| 59/59 [02:27<00:00,  2.50s/it]\n",
      "Epoch 13:   2%|▏         | 1/59 [00:03<02:55,  3.03s/it]"
     ]
    },
    {
     "name": "stdout",
     "output_type": "stream",
     "text": [
      "Epoch: 13 ===== Batch: 0/59 ===== Disc loss: 1.2651 ===== Gen loss: 1.0168\n"
     ]
    },
    {
     "name": "stderr",
     "output_type": "stream",
     "text": [
      "Epoch 13:  86%|████████▋ | 51/59 [02:08<00:20,  2.55s/it]"
     ]
    },
    {
     "name": "stdout",
     "output_type": "stream",
     "text": [
      "Epoch: 13 ===== Batch: 50/59 ===== Disc loss: 1.3082 ===== Gen loss: 0.6664\n"
     ]
    },
    {
     "name": "stderr",
     "output_type": "stream",
     "text": [
      "Epoch 13: 100%|██████████| 59/59 [02:27<00:00,  2.50s/it]\n",
      "Epoch 14:   2%|▏         | 1/59 [00:03<02:55,  3.02s/it]"
     ]
    },
    {
     "name": "stdout",
     "output_type": "stream",
     "text": [
      "Epoch: 14 ===== Batch: 0/59 ===== Disc loss: 1.1611 ===== Gen loss: 1.5886\n"
     ]
    },
    {
     "name": "stderr",
     "output_type": "stream",
     "text": [
      "Epoch 14:  86%|████████▋ | 51/59 [02:08<00:20,  2.55s/it]"
     ]
    },
    {
     "name": "stdout",
     "output_type": "stream",
     "text": [
      "Epoch: 14 ===== Batch: 50/59 ===== Disc loss: 1.1239 ===== Gen loss: 1.4629\n"
     ]
    },
    {
     "name": "stderr",
     "output_type": "stream",
     "text": [
      "Epoch 14: 100%|██████████| 59/59 [02:27<00:00,  2.50s/it]\n",
      "Epoch 15:   2%|▏         | 1/59 [00:03<02:55,  3.03s/it]"
     ]
    },
    {
     "name": "stdout",
     "output_type": "stream",
     "text": [
      "Epoch: 15 ===== Batch: 0/59 ===== Disc loss: 1.2332 ===== Gen loss: 1.0012\n"
     ]
    },
    {
     "name": "stderr",
     "output_type": "stream",
     "text": [
      "Epoch 15:  86%|████████▋ | 51/59 [02:08<00:20,  2.55s/it]"
     ]
    },
    {
     "name": "stdout",
     "output_type": "stream",
     "text": [
      "Epoch: 15 ===== Batch: 50/59 ===== Disc loss: 1.0973 ===== Gen loss: 1.3377\n"
     ]
    },
    {
     "name": "stderr",
     "output_type": "stream",
     "text": [
      "Epoch 15: 100%|██████████| 59/59 [02:27<00:00,  2.50s/it]\n",
      "Epoch 16:   2%|▏         | 1/59 [00:03<02:54,  3.01s/it]"
     ]
    },
    {
     "name": "stdout",
     "output_type": "stream",
     "text": [
      "Epoch: 16 ===== Batch: 0/59 ===== Disc loss: 1.0615 ===== Gen loss: 1.3755\n"
     ]
    },
    {
     "name": "stderr",
     "output_type": "stream",
     "text": [
      "Epoch 16:  86%|████████▋ | 51/59 [02:08<00:20,  2.56s/it]"
     ]
    },
    {
     "name": "stdout",
     "output_type": "stream",
     "text": [
      "Epoch: 16 ===== Batch: 50/59 ===== Disc loss: 1.3759 ===== Gen loss: 1.0181\n"
     ]
    },
    {
     "name": "stderr",
     "output_type": "stream",
     "text": [
      "Epoch 16: 100%|██████████| 59/59 [02:27<00:00,  2.51s/it]\n",
      "Epoch 17:   2%|▏         | 1/59 [00:03<02:54,  3.01s/it]"
     ]
    },
    {
     "name": "stdout",
     "output_type": "stream",
     "text": [
      "Epoch: 17 ===== Batch: 0/59 ===== Disc loss: 1.2212 ===== Gen loss: 1.5633\n"
     ]
    },
    {
     "name": "stderr",
     "output_type": "stream",
     "text": [
      "Epoch 17:  86%|████████▋ | 51/59 [02:08<00:20,  2.55s/it]"
     ]
    },
    {
     "name": "stdout",
     "output_type": "stream",
     "text": [
      "Epoch: 17 ===== Batch: 50/59 ===== Disc loss: 1.0962 ===== Gen loss: 1.1819\n"
     ]
    },
    {
     "name": "stderr",
     "output_type": "stream",
     "text": [
      "Epoch 17: 100%|██████████| 59/59 [02:27<00:00,  2.50s/it]\n",
      "Epoch 18:   2%|▏         | 1/59 [00:03<02:54,  3.01s/it]"
     ]
    },
    {
     "name": "stdout",
     "output_type": "stream",
     "text": [
      "Epoch: 18 ===== Batch: 0/59 ===== Disc loss: 1.3203 ===== Gen loss: 1.1668\n"
     ]
    },
    {
     "name": "stderr",
     "output_type": "stream",
     "text": [
      "Epoch 18:  86%|████████▋ | 51/59 [02:08<00:20,  2.55s/it]"
     ]
    },
    {
     "name": "stdout",
     "output_type": "stream",
     "text": [
      "Epoch: 18 ===== Batch: 50/59 ===== Disc loss: 1.1137 ===== Gen loss: 1.9727\n"
     ]
    },
    {
     "name": "stderr",
     "output_type": "stream",
     "text": [
      "Epoch 18: 100%|██████████| 59/59 [02:27<00:00,  2.50s/it]\n",
      "Epoch 19:   2%|▏         | 1/59 [00:03<02:54,  3.01s/it]"
     ]
    },
    {
     "name": "stdout",
     "output_type": "stream",
     "text": [
      "Epoch: 19 ===== Batch: 0/59 ===== Disc loss: 1.3303 ===== Gen loss: 1.7652\n"
     ]
    },
    {
     "name": "stderr",
     "output_type": "stream",
     "text": [
      "Epoch 19:  86%|████████▋ | 51/59 [02:08<00:20,  2.55s/it]"
     ]
    },
    {
     "name": "stdout",
     "output_type": "stream",
     "text": [
      "Epoch: 19 ===== Batch: 50/59 ===== Disc loss: 1.4798 ===== Gen loss: 1.2141\n"
     ]
    },
    {
     "name": "stderr",
     "output_type": "stream",
     "text": [
      "Epoch 19: 100%|██████████| 59/59 [02:27<00:00,  2.50s/it]\n",
      "Epoch 20:   2%|▏         | 1/59 [00:03<02:57,  3.06s/it]"
     ]
    },
    {
     "name": "stdout",
     "output_type": "stream",
     "text": [
      "Epoch: 20 ===== Batch: 0/59 ===== Disc loss: 1.3580 ===== Gen loss: 0.7159\n"
     ]
    },
    {
     "name": "stderr",
     "output_type": "stream",
     "text": [
      "Epoch 20:  86%|████████▋ | 51/59 [02:08<00:20,  2.55s/it]"
     ]
    },
    {
     "name": "stdout",
     "output_type": "stream",
     "text": [
      "Epoch: 20 ===== Batch: 50/59 ===== Disc loss: 1.0629 ===== Gen loss: 1.3172\n"
     ]
    },
    {
     "name": "stderr",
     "output_type": "stream",
     "text": [
      "Epoch 20: 100%|██████████| 59/59 [02:27<00:00,  2.51s/it]\n",
      "Epoch 21:   2%|▏         | 1/59 [00:03<02:54,  3.01s/it]"
     ]
    },
    {
     "name": "stdout",
     "output_type": "stream",
     "text": [
      "Epoch: 21 ===== Batch: 0/59 ===== Disc loss: 1.1255 ===== Gen loss: 1.6097\n"
     ]
    },
    {
     "name": "stderr",
     "output_type": "stream",
     "text": [
      "Epoch 21:  86%|████████▋ | 51/59 [02:08<00:20,  2.55s/it]"
     ]
    },
    {
     "name": "stdout",
     "output_type": "stream",
     "text": [
      "Epoch: 21 ===== Batch: 50/59 ===== Disc loss: 3.1145 ===== Gen loss: 0.4835\n"
     ]
    },
    {
     "name": "stderr",
     "output_type": "stream",
     "text": [
      "Epoch 21: 100%|██████████| 59/59 [02:27<00:00,  2.50s/it]\n",
      "Epoch 22:   2%|▏         | 1/59 [00:03<02:54,  3.01s/it]"
     ]
    },
    {
     "name": "stdout",
     "output_type": "stream",
     "text": [
      "Epoch: 22 ===== Batch: 0/59 ===== Disc loss: 1.0869 ===== Gen loss: 1.3503\n"
     ]
    },
    {
     "name": "stderr",
     "output_type": "stream",
     "text": [
      "Epoch 22:  86%|████████▋ | 51/59 [02:08<00:20,  2.55s/it]"
     ]
    },
    {
     "name": "stdout",
     "output_type": "stream",
     "text": [
      "Epoch: 22 ===== Batch: 50/59 ===== Disc loss: 0.9249 ===== Gen loss: 2.4798\n"
     ]
    },
    {
     "name": "stderr",
     "output_type": "stream",
     "text": [
      "Epoch 22: 100%|██████████| 59/59 [02:27<00:00,  2.50s/it]\n",
      "Epoch 23:   2%|▏         | 1/59 [00:03<02:54,  3.01s/it]"
     ]
    },
    {
     "name": "stdout",
     "output_type": "stream",
     "text": [
      "Epoch: 23 ===== Batch: 0/59 ===== Disc loss: 1.1119 ===== Gen loss: 1.5227\n"
     ]
    },
    {
     "name": "stderr",
     "output_type": "stream",
     "text": [
      "Epoch 23:  86%|████████▋ | 51/59 [02:08<00:20,  2.55s/it]"
     ]
    },
    {
     "name": "stdout",
     "output_type": "stream",
     "text": [
      "Epoch: 23 ===== Batch: 50/59 ===== Disc loss: 0.9116 ===== Gen loss: 2.1277\n"
     ]
    },
    {
     "name": "stderr",
     "output_type": "stream",
     "text": [
      "Epoch 23: 100%|██████████| 59/59 [02:27<00:00,  2.51s/it]\n",
      "Epoch 24:   2%|▏         | 1/59 [00:03<02:55,  3.02s/it]"
     ]
    },
    {
     "name": "stdout",
     "output_type": "stream",
     "text": [
      "Epoch: 24 ===== Batch: 0/59 ===== Disc loss: 1.0675 ===== Gen loss: 1.7886\n"
     ]
    },
    {
     "name": "stderr",
     "output_type": "stream",
     "text": [
      "Epoch 24:  86%|████████▋ | 51/59 [02:08<00:20,  2.55s/it]"
     ]
    },
    {
     "name": "stdout",
     "output_type": "stream",
     "text": [
      "Epoch: 24 ===== Batch: 50/59 ===== Disc loss: 0.8876 ===== Gen loss: 2.9189\n"
     ]
    },
    {
     "name": "stderr",
     "output_type": "stream",
     "text": [
      "Epoch 24: 100%|██████████| 59/59 [02:27<00:00,  2.51s/it]\n",
      "Epoch 25:   2%|▏         | 1/59 [00:03<03:06,  3.22s/it]"
     ]
    },
    {
     "name": "stdout",
     "output_type": "stream",
     "text": [
      "Epoch: 25 ===== Batch: 0/59 ===== Disc loss: 1.1179 ===== Gen loss: 1.7922\n"
     ]
    },
    {
     "name": "stderr",
     "output_type": "stream",
     "text": [
      "Epoch 25:  86%|████████▋ | 51/59 [02:09<00:20,  2.56s/it]"
     ]
    },
    {
     "name": "stdout",
     "output_type": "stream",
     "text": [
      "Epoch: 25 ===== Batch: 50/59 ===== Disc loss: 1.0409 ===== Gen loss: 1.6622\n"
     ]
    },
    {
     "name": "stderr",
     "output_type": "stream",
     "text": [
      "Epoch 25: 100%|██████████| 59/59 [02:28<00:00,  2.51s/it]\n",
      "Epoch 26:   2%|▏         | 1/59 [00:03<02:55,  3.03s/it]"
     ]
    },
    {
     "name": "stdout",
     "output_type": "stream",
     "text": [
      "Epoch: 26 ===== Batch: 0/59 ===== Disc loss: 1.6191 ===== Gen loss: 1.2212\n"
     ]
    },
    {
     "name": "stderr",
     "output_type": "stream",
     "text": [
      "Epoch 26:  86%|████████▋ | 51/59 [02:08<00:20,  2.55s/it]"
     ]
    },
    {
     "name": "stdout",
     "output_type": "stream",
     "text": [
      "Epoch: 26 ===== Batch: 50/59 ===== Disc loss: 0.9806 ===== Gen loss: 2.8506\n"
     ]
    },
    {
     "name": "stderr",
     "output_type": "stream",
     "text": [
      "Epoch 26: 100%|██████████| 59/59 [02:27<00:00,  2.50s/it]\n",
      "Epoch 27:   2%|▏         | 1/59 [00:03<02:55,  3.02s/it]"
     ]
    },
    {
     "name": "stdout",
     "output_type": "stream",
     "text": [
      "Epoch: 27 ===== Batch: 0/59 ===== Disc loss: 1.0733 ===== Gen loss: 3.3802\n"
     ]
    },
    {
     "name": "stderr",
     "output_type": "stream",
     "text": [
      "Epoch 27:  86%|████████▋ | 51/59 [02:08<00:20,  2.55s/it]"
     ]
    },
    {
     "name": "stdout",
     "output_type": "stream",
     "text": [
      "Epoch: 27 ===== Batch: 50/59 ===== Disc loss: 1.1927 ===== Gen loss: 2.0173\n"
     ]
    },
    {
     "name": "stderr",
     "output_type": "stream",
     "text": [
      "Epoch 27: 100%|██████████| 59/59 [02:27<00:00,  2.50s/it]\n",
      "Epoch 28:   2%|▏         | 1/59 [00:03<02:56,  3.04s/it]"
     ]
    },
    {
     "name": "stdout",
     "output_type": "stream",
     "text": [
      "Epoch: 28 ===== Batch: 0/59 ===== Disc loss: 1.1230 ===== Gen loss: 3.6863\n"
     ]
    },
    {
     "name": "stderr",
     "output_type": "stream",
     "text": [
      "Epoch 28:  86%|████████▋ | 51/59 [02:08<00:20,  2.55s/it]"
     ]
    },
    {
     "name": "stdout",
     "output_type": "stream",
     "text": [
      "Epoch: 28 ===== Batch: 50/59 ===== Disc loss: 0.9007 ===== Gen loss: 2.2300\n"
     ]
    },
    {
     "name": "stderr",
     "output_type": "stream",
     "text": [
      "Epoch 28: 100%|██████████| 59/59 [02:27<00:00,  2.50s/it]\n",
      "Epoch 29:   2%|▏         | 1/59 [00:03<02:55,  3.03s/it]"
     ]
    },
    {
     "name": "stdout",
     "output_type": "stream",
     "text": [
      "Epoch: 29 ===== Batch: 0/59 ===== Disc loss: 1.0999 ===== Gen loss: 2.4194\n"
     ]
    },
    {
     "name": "stderr",
     "output_type": "stream",
     "text": [
      "Epoch 29:  86%|████████▋ | 51/59 [02:08<00:20,  2.55s/it]"
     ]
    },
    {
     "name": "stdout",
     "output_type": "stream",
     "text": [
      "Epoch: 29 ===== Batch: 50/59 ===== Disc loss: 1.1284 ===== Gen loss: 2.8587\n"
     ]
    },
    {
     "name": "stderr",
     "output_type": "stream",
     "text": [
      "Epoch 29: 100%|██████████| 59/59 [02:27<00:00,  2.51s/it]\n",
      "Epoch 30:   2%|▏         | 1/59 [00:03<02:57,  3.05s/it]"
     ]
    },
    {
     "name": "stdout",
     "output_type": "stream",
     "text": [
      "Epoch: 30 ===== Batch: 0/59 ===== Disc loss: 1.0875 ===== Gen loss: 0.8639\n"
     ]
    },
    {
     "name": "stderr",
     "output_type": "stream",
     "text": [
      "Epoch 30:  86%|████████▋ | 51/59 [02:08<00:20,  2.55s/it]"
     ]
    },
    {
     "name": "stdout",
     "output_type": "stream",
     "text": [
      "Epoch: 30 ===== Batch: 50/59 ===== Disc loss: 0.8056 ===== Gen loss: 1.8181\n"
     ]
    },
    {
     "name": "stderr",
     "output_type": "stream",
     "text": [
      "Epoch 30: 100%|██████████| 59/59 [02:27<00:00,  2.50s/it]\n",
      "Epoch 31:   2%|▏         | 1/59 [00:03<02:56,  3.04s/it]"
     ]
    },
    {
     "name": "stdout",
     "output_type": "stream",
     "text": [
      "Epoch: 31 ===== Batch: 0/59 ===== Disc loss: 0.9177 ===== Gen loss: 1.6389\n"
     ]
    },
    {
     "name": "stderr",
     "output_type": "stream",
     "text": [
      "Epoch 31:  86%|████████▋ | 51/59 [02:08<00:20,  2.55s/it]"
     ]
    },
    {
     "name": "stdout",
     "output_type": "stream",
     "text": [
      "Epoch: 31 ===== Batch: 50/59 ===== Disc loss: 0.8560 ===== Gen loss: 2.5484\n"
     ]
    },
    {
     "name": "stderr",
     "output_type": "stream",
     "text": [
      "Epoch 31: 100%|██████████| 59/59 [02:27<00:00,  2.50s/it]\n",
      "Epoch 32:   2%|▏         | 1/59 [00:03<02:54,  3.02s/it]"
     ]
    },
    {
     "name": "stdout",
     "output_type": "stream",
     "text": [
      "Epoch: 32 ===== Batch: 0/59 ===== Disc loss: 0.9671 ===== Gen loss: 2.0798\n"
     ]
    },
    {
     "name": "stderr",
     "output_type": "stream",
     "text": [
      "Epoch 32:  86%|████████▋ | 51/59 [02:08<00:20,  2.55s/it]"
     ]
    },
    {
     "name": "stdout",
     "output_type": "stream",
     "text": [
      "Epoch: 32 ===== Batch: 50/59 ===== Disc loss: 1.2358 ===== Gen loss: 3.4777\n"
     ]
    },
    {
     "name": "stderr",
     "output_type": "stream",
     "text": [
      "Epoch 32: 100%|██████████| 59/59 [02:27<00:00,  2.51s/it]\n",
      "Epoch 33:   2%|▏         | 1/59 [00:03<02:56,  3.04s/it]"
     ]
    },
    {
     "name": "stdout",
     "output_type": "stream",
     "text": [
      "Epoch: 33 ===== Batch: 0/59 ===== Disc loss: 1.1784 ===== Gen loss: 3.4042\n"
     ]
    },
    {
     "name": "stderr",
     "output_type": "stream",
     "text": [
      "Epoch 33:  86%|████████▋ | 51/59 [02:08<00:20,  2.55s/it]"
     ]
    },
    {
     "name": "stdout",
     "output_type": "stream",
     "text": [
      "Epoch: 33 ===== Batch: 50/59 ===== Disc loss: 0.9676 ===== Gen loss: 1.0154\n"
     ]
    },
    {
     "name": "stderr",
     "output_type": "stream",
     "text": [
      "Epoch 33: 100%|██████████| 59/59 [02:27<00:00,  2.50s/it]\n",
      "Epoch 34:   2%|▏         | 1/59 [00:03<02:55,  3.03s/it]"
     ]
    },
    {
     "name": "stdout",
     "output_type": "stream",
     "text": [
      "Epoch: 34 ===== Batch: 0/59 ===== Disc loss: 0.7404 ===== Gen loss: 2.5460\n"
     ]
    },
    {
     "name": "stderr",
     "output_type": "stream",
     "text": [
      "Epoch 34:  86%|████████▋ | 51/59 [02:08<00:20,  2.55s/it]"
     ]
    },
    {
     "name": "stdout",
     "output_type": "stream",
     "text": [
      "Epoch: 34 ===== Batch: 50/59 ===== Disc loss: 0.9415 ===== Gen loss: 1.6379\n"
     ]
    },
    {
     "name": "stderr",
     "output_type": "stream",
     "text": [
      "Epoch 34: 100%|██████████| 59/59 [02:27<00:00,  2.50s/it]\n",
      "Epoch 35:   2%|▏         | 1/59 [00:03<02:55,  3.02s/it]"
     ]
    },
    {
     "name": "stdout",
     "output_type": "stream",
     "text": [
      "Epoch: 35 ===== Batch: 0/59 ===== Disc loss: 0.8482 ===== Gen loss: 1.9956\n"
     ]
    },
    {
     "name": "stderr",
     "output_type": "stream",
     "text": [
      "Epoch 35:  86%|████████▋ | 51/59 [02:08<00:20,  2.55s/it]"
     ]
    },
    {
     "name": "stdout",
     "output_type": "stream",
     "text": [
      "Epoch: 35 ===== Batch: 50/59 ===== Disc loss: 1.1114 ===== Gen loss: 1.3624\n"
     ]
    },
    {
     "name": "stderr",
     "output_type": "stream",
     "text": [
      "Epoch 35: 100%|██████████| 59/59 [02:27<00:00,  2.50s/it]\n",
      "Epoch 36:   2%|▏         | 1/59 [00:03<02:56,  3.05s/it]"
     ]
    },
    {
     "name": "stdout",
     "output_type": "stream",
     "text": [
      "Epoch: 36 ===== Batch: 0/59 ===== Disc loss: 0.8100 ===== Gen loss: 2.5060\n"
     ]
    },
    {
     "name": "stderr",
     "output_type": "stream",
     "text": [
      "Epoch 36:  86%|████████▋ | 51/59 [02:08<00:20,  2.55s/it]"
     ]
    },
    {
     "name": "stdout",
     "output_type": "stream",
     "text": [
      "Epoch: 36 ===== Batch: 50/59 ===== Disc loss: 0.7007 ===== Gen loss: 2.2982\n"
     ]
    },
    {
     "name": "stderr",
     "output_type": "stream",
     "text": [
      "Epoch 36: 100%|██████████| 59/59 [02:27<00:00,  2.50s/it]\n",
      "Epoch 37:   2%|▏         | 1/59 [00:03<02:54,  3.02s/it]"
     ]
    },
    {
     "name": "stdout",
     "output_type": "stream",
     "text": [
      "Epoch: 37 ===== Batch: 0/59 ===== Disc loss: 0.8860 ===== Gen loss: 1.8153\n"
     ]
    },
    {
     "name": "stderr",
     "output_type": "stream",
     "text": [
      "Epoch 37:  86%|████████▋ | 51/59 [02:08<00:20,  2.53s/it]"
     ]
    },
    {
     "name": "stdout",
     "output_type": "stream",
     "text": [
      "Epoch: 37 ===== Batch: 50/59 ===== Disc loss: 0.9376 ===== Gen loss: 3.1943\n"
     ]
    },
    {
     "name": "stderr",
     "output_type": "stream",
     "text": [
      "Epoch 37: 100%|██████████| 59/59 [02:27<00:00,  2.50s/it]\n",
      "Epoch 38:   2%|▏         | 1/59 [00:03<02:54,  3.00s/it]"
     ]
    },
    {
     "name": "stdout",
     "output_type": "stream",
     "text": [
      "Epoch: 38 ===== Batch: 0/59 ===== Disc loss: 0.8566 ===== Gen loss: 1.8620\n"
     ]
    },
    {
     "name": "stderr",
     "output_type": "stream",
     "text": [
      "Epoch 38:  86%|████████▋ | 51/59 [02:07<00:20,  2.54s/it]"
     ]
    },
    {
     "name": "stdout",
     "output_type": "stream",
     "text": [
      "Epoch: 38 ===== Batch: 50/59 ===== Disc loss: 0.7002 ===== Gen loss: 2.7818\n"
     ]
    },
    {
     "name": "stderr",
     "output_type": "stream",
     "text": [
      "Epoch 38: 100%|██████████| 59/59 [02:26<00:00,  2.49s/it]\n",
      "Epoch 39:   2%|▏         | 1/59 [00:03<02:55,  3.03s/it]"
     ]
    },
    {
     "name": "stdout",
     "output_type": "stream",
     "text": [
      "Epoch: 39 ===== Batch: 0/59 ===== Disc loss: 1.3889 ===== Gen loss: 3.2465\n"
     ]
    },
    {
     "name": "stderr",
     "output_type": "stream",
     "text": [
      "Epoch 39:  86%|████████▋ | 51/59 [02:08<00:20,  2.55s/it]"
     ]
    },
    {
     "name": "stdout",
     "output_type": "stream",
     "text": [
      "Epoch: 39 ===== Batch: 50/59 ===== Disc loss: 0.8094 ===== Gen loss: 2.1900\n"
     ]
    },
    {
     "name": "stderr",
     "output_type": "stream",
     "text": [
      "Epoch 39: 100%|██████████| 59/59 [02:27<00:00,  2.50s/it]\n",
      "Epoch 40:   2%|▏         | 1/59 [00:03<02:56,  3.04s/it]"
     ]
    },
    {
     "name": "stdout",
     "output_type": "stream",
     "text": [
      "Epoch: 40 ===== Batch: 0/59 ===== Disc loss: 0.7153 ===== Gen loss: 2.1958\n"
     ]
    },
    {
     "name": "stderr",
     "output_type": "stream",
     "text": [
      "Epoch 40:  86%|████████▋ | 51/59 [02:07<00:20,  2.53s/it]"
     ]
    },
    {
     "name": "stdout",
     "output_type": "stream",
     "text": [
      "Epoch: 40 ===== Batch: 50/59 ===== Disc loss: 1.2009 ===== Gen loss: 0.9493\n"
     ]
    },
    {
     "name": "stderr",
     "output_type": "stream",
     "text": [
      "Epoch 40: 100%|██████████| 59/59 [02:26<00:00,  2.49s/it]\n",
      "Epoch 41:   2%|▏         | 1/59 [00:03<02:55,  3.02s/it]"
     ]
    },
    {
     "name": "stdout",
     "output_type": "stream",
     "text": [
      "Epoch: 41 ===== Batch: 0/59 ===== Disc loss: 0.7545 ===== Gen loss: 2.3072\n"
     ]
    },
    {
     "name": "stderr",
     "output_type": "stream",
     "text": [
      "Epoch 41:  86%|████████▋ | 51/59 [02:08<00:20,  2.55s/it]"
     ]
    },
    {
     "name": "stdout",
     "output_type": "stream",
     "text": [
      "Epoch: 41 ===== Batch: 50/59 ===== Disc loss: 0.9809 ===== Gen loss: 3.4176\n"
     ]
    },
    {
     "name": "stderr",
     "output_type": "stream",
     "text": [
      "Epoch 41: 100%|██████████| 59/59 [02:27<00:00,  2.49s/it]\n",
      "Epoch 42:   2%|▏         | 1/59 [00:03<02:57,  3.07s/it]"
     ]
    },
    {
     "name": "stdout",
     "output_type": "stream",
     "text": [
      "Epoch: 42 ===== Batch: 0/59 ===== Disc loss: 1.0442 ===== Gen loss: 3.5536\n"
     ]
    },
    {
     "name": "stderr",
     "output_type": "stream",
     "text": [
      "Epoch 42:  86%|████████▋ | 51/59 [02:08<00:20,  2.54s/it]"
     ]
    },
    {
     "name": "stdout",
     "output_type": "stream",
     "text": [
      "Epoch: 42 ===== Batch: 50/59 ===== Disc loss: 0.8747 ===== Gen loss: 1.5963\n"
     ]
    },
    {
     "name": "stderr",
     "output_type": "stream",
     "text": [
      "Epoch 42: 100%|██████████| 59/59 [02:27<00:00,  2.50s/it]\n",
      "Epoch 43:   2%|▏         | 1/59 [00:03<02:56,  3.04s/it]"
     ]
    },
    {
     "name": "stdout",
     "output_type": "stream",
     "text": [
      "Epoch: 43 ===== Batch: 0/59 ===== Disc loss: 0.7659 ===== Gen loss: 1.8312\n"
     ]
    },
    {
     "name": "stderr",
     "output_type": "stream",
     "text": [
      "Epoch 43:  86%|████████▋ | 51/59 [02:07<00:20,  2.53s/it]"
     ]
    },
    {
     "name": "stdout",
     "output_type": "stream",
     "text": [
      "Epoch: 43 ===== Batch: 50/59 ===== Disc loss: 1.5746 ===== Gen loss: 0.5042\n"
     ]
    },
    {
     "name": "stderr",
     "output_type": "stream",
     "text": [
      "Epoch 43: 100%|██████████| 59/59 [02:26<00:00,  2.49s/it]\n",
      "Epoch 44:   2%|▏         | 1/59 [00:03<02:55,  3.03s/it]"
     ]
    },
    {
     "name": "stdout",
     "output_type": "stream",
     "text": [
      "Epoch: 44 ===== Batch: 0/59 ===== Disc loss: 0.9160 ===== Gen loss: 1.1311\n"
     ]
    },
    {
     "name": "stderr",
     "output_type": "stream",
     "text": [
      "Epoch 44:  86%|████████▋ | 51/59 [02:07<00:20,  2.53s/it]"
     ]
    },
    {
     "name": "stdout",
     "output_type": "stream",
     "text": [
      "Epoch: 44 ===== Batch: 50/59 ===== Disc loss: 0.6963 ===== Gen loss: 2.5922\n"
     ]
    },
    {
     "name": "stderr",
     "output_type": "stream",
     "text": [
      "Epoch 44: 100%|██████████| 59/59 [02:26<00:00,  2.49s/it]\n",
      "Epoch 45:   2%|▏         | 1/59 [00:03<02:55,  3.02s/it]"
     ]
    },
    {
     "name": "stdout",
     "output_type": "stream",
     "text": [
      "Epoch: 45 ===== Batch: 0/59 ===== Disc loss: 0.6690 ===== Gen loss: 2.2803\n"
     ]
    },
    {
     "name": "stderr",
     "output_type": "stream",
     "text": [
      "Epoch 45:  86%|████████▋ | 51/59 [02:08<00:20,  2.55s/it]"
     ]
    },
    {
     "name": "stdout",
     "output_type": "stream",
     "text": [
      "Epoch: 45 ===== Batch: 50/59 ===== Disc loss: 1.1223 ===== Gen loss: 1.2434\n"
     ]
    },
    {
     "name": "stderr",
     "output_type": "stream",
     "text": [
      "Epoch 45: 100%|██████████| 59/59 [02:27<00:00,  2.49s/it]\n",
      "Epoch 46:   2%|▏         | 1/59 [00:03<02:54,  3.01s/it]"
     ]
    },
    {
     "name": "stdout",
     "output_type": "stream",
     "text": [
      "Epoch: 46 ===== Batch: 0/59 ===== Disc loss: 0.8063 ===== Gen loss: 3.6175\n"
     ]
    },
    {
     "name": "stderr",
     "output_type": "stream",
     "text": [
      "Epoch 46:  86%|████████▋ | 51/59 [02:08<00:20,  2.55s/it]"
     ]
    },
    {
     "name": "stdout",
     "output_type": "stream",
     "text": [
      "Epoch: 46 ===== Batch: 50/59 ===== Disc loss: 0.7625 ===== Gen loss: 2.8108\n"
     ]
    },
    {
     "name": "stderr",
     "output_type": "stream",
     "text": [
      "Epoch 46: 100%|██████████| 59/59 [02:27<00:00,  2.50s/it]\n",
      "Epoch 47:   2%|▏         | 1/59 [00:03<02:55,  3.02s/it]"
     ]
    },
    {
     "name": "stdout",
     "output_type": "stream",
     "text": [
      "Epoch: 47 ===== Batch: 0/59 ===== Disc loss: 1.0231 ===== Gen loss: 1.4087\n"
     ]
    },
    {
     "name": "stderr",
     "output_type": "stream",
     "text": [
      "Epoch 47:  86%|████████▋ | 51/59 [02:08<00:20,  2.54s/it]"
     ]
    },
    {
     "name": "stdout",
     "output_type": "stream",
     "text": [
      "Epoch: 47 ===== Batch: 50/59 ===== Disc loss: 0.7345 ===== Gen loss: 2.9863\n"
     ]
    },
    {
     "name": "stderr",
     "output_type": "stream",
     "text": [
      "Epoch 47: 100%|██████████| 59/59 [02:27<00:00,  2.49s/it]\n",
      "Epoch 48:   2%|▏         | 1/59 [00:02<02:53,  2.99s/it]"
     ]
    },
    {
     "name": "stdout",
     "output_type": "stream",
     "text": [
      "Epoch: 48 ===== Batch: 0/59 ===== Disc loss: 1.0890 ===== Gen loss: 1.2302\n"
     ]
    },
    {
     "name": "stderr",
     "output_type": "stream",
     "text": [
      "Epoch 48:  86%|████████▋ | 51/59 [02:08<00:20,  2.55s/it]"
     ]
    },
    {
     "name": "stdout",
     "output_type": "stream",
     "text": [
      "Epoch: 48 ===== Batch: 50/59 ===== Disc loss: 0.9191 ===== Gen loss: 3.7380\n"
     ]
    },
    {
     "name": "stderr",
     "output_type": "stream",
     "text": [
      "Epoch 48: 100%|██████████| 59/59 [02:27<00:00,  2.50s/it]\n",
      "Epoch 49:   2%|▏         | 1/59 [00:03<02:55,  3.02s/it]"
     ]
    },
    {
     "name": "stdout",
     "output_type": "stream",
     "text": [
      "Epoch: 49 ===== Batch: 0/59 ===== Disc loss: 0.7499 ===== Gen loss: 2.4667\n"
     ]
    },
    {
     "name": "stderr",
     "output_type": "stream",
     "text": [
      "Epoch 49:  86%|████████▋ | 51/59 [02:08<00:20,  2.53s/it]"
     ]
    },
    {
     "name": "stdout",
     "output_type": "stream",
     "text": [
      "Epoch: 49 ===== Batch: 50/59 ===== Disc loss: 0.7376 ===== Gen loss: 2.4567\n"
     ]
    },
    {
     "name": "stderr",
     "output_type": "stream",
     "text": [
      "Epoch 49: 100%|██████████| 59/59 [02:27<00:00,  2.50s/it]\n"
     ]
    }
   ],
   "source": [
    "import torch\n",
    "import torchvision\n",
    "from torch import nn\n",
    "from torch import optim\n",
    "from torchvision.datasets import FashionMNIST\n",
    "from torchvision import transforms\n",
    "from torch.utils.data import DataLoader\n",
    "from torch.utils.tensorboard import SummaryWriter\n",
    "import matplotlib.pyplot as plt\n",
    "import numpy as np\n",
    "from tqdm import tqdm\n",
    "\n",
    "# Set random seed for reproducibility\n",
    "torch.manual_seed(42)\n",
    "\n",
    "# Define hyperparameters and variables\n",
    "LEARNING_RATE = 0.0005\n",
    "BATCH_SIZE = 1024\n",
    "IMAGE_SIZE = 64\n",
    "EPOCHS = 50\n",
    "image_channels = 1\n",
    "noise_channels = 256\n",
    "gen_features = 64\n",
    "disc_features = 64\n",
    "\n",
    "# Set device\n",
    "device = torch.device(\"cuda\" if torch.cuda.is_available() else \"cpu\")\n",
    "\n",
    "# Define the transform\n",
    "data_transforms = transforms.Compose([\n",
    "    transforms.Resize(IMAGE_SIZE),\n",
    "    transforms.ToTensor(),\n",
    "    transforms.Normalize((0.5,), (0.5,)),\n",
    "])\n",
    "\n",
    "# Load the dataset\n",
    "dataset = FashionMNIST(root=\"dataset/\", train=True, transform=data_transforms, download=True)\n",
    "dataloader = DataLoader(dataset, batch_size=BATCH_SIZE, shuffle=True, num_workers=2)\n",
    "\n",
    "# Generator\n",
    "class Generator(nn.Module):\n",
    "    def __init__(self, noise_channels, image_channels, features):\n",
    "        super(Generator, self).__init__()\n",
    "        \"\"\"\n",
    "        The generator model uses 4 ConvTranspose blocks. Each block contains \n",
    "        a ConvTranspose2d, BatchNorm2d, and ReLU activation.\n",
    "        \"\"\"\n",
    "        self.model = nn.Sequential(\n",
    "            # Transpose block 1\n",
    "            nn.ConvTranspose2d(noise_channels, features*16, kernel_size=4, stride=1, padding=0),\n",
    "            nn.ReLU(),\n",
    "            # Transpose block 2\n",
    "            nn.ConvTranspose2d(features*16, features*8, kernel_size=4, stride=2, padding=1),\n",
    "            nn.BatchNorm2d(features*8),\n",
    "            nn.ReLU(),\n",
    "            # Transpose block 3\n",
    "            nn.ConvTranspose2d(features*8, features*4, kernel_size=4, stride=2, padding=1),\n",
    "            nn.BatchNorm2d(features*4),\n",
    "            nn.ReLU(),\n",
    "            # Transpose block 4\n",
    "            nn.ConvTranspose2d(features*4, features*2, kernel_size=4, stride=2, padding=1),\n",
    "            nn.BatchNorm2d(features*2),\n",
    "            nn.ReLU(),\n",
    "            # Last transpose block\n",
    "            nn.ConvTranspose2d(features*2, image_channels, kernel_size=4, stride=2, padding=1),\n",
    "            nn.Tanh(),\n",
    "        )\n",
    "    \n",
    "    def forward(self, x):\n",
    "        return self.model(x)\n",
    "\n",
    "# Discriminator\n",
    "class Discriminator(nn.Module):\n",
    "    def __init__(self, image_channels, features):\n",
    "        super(Discriminator, self).__init__()\n",
    "        \"\"\"\n",
    "        The discriminator model has 5 Conv blocks with Conv2d, BatchNorm, and LeakyReLU activation.\n",
    "        \"\"\"\n",
    "        self.model = nn.Sequential(\n",
    "            # Conv block 1\n",
    "            nn.Conv2d(image_channels, features, kernel_size=4, stride=2, padding=1),  # 64x64 -> 32x32\n",
    "            nn.LeakyReLU(0.2),\n",
    "            # Conv block 2\n",
    "            nn.Conv2d(features, features*2, kernel_size=4, stride=2, padding=1),  # 32x32 -> 16x16\n",
    "            nn.BatchNorm2d(features*2),\n",
    "            nn.LeakyReLU(0.2),\n",
    "            # Conv block 3\n",
    "            nn.Conv2d(features*2, features*4, kernel_size=4, stride=2, padding=1),  # 16x16 -> 8x8\n",
    "            nn.BatchNorm2d(features*4),\n",
    "            nn.LeakyReLU(0.2),\n",
    "            # Conv block 4\n",
    "            nn.Conv2d(features*4, features*8, kernel_size=4, stride=2, padding=1),  # 8x8 -> 4x4\n",
    "            nn.BatchNorm2d(features*8),\n",
    "            nn.LeakyReLU(0.2),\n",
    "            # Conv block 5\n",
    "            nn.Conv2d(features*8, 1, kernel_size=4, stride=1, padding=0),  # 4x4 -> 1x1\n",
    "            nn.Sigmoid(),\n",
    "        )\n",
    "\n",
    "    def forward(self, x):\n",
    "        output = self.model(x)\n",
    "        return output.view(-1)  # Flatten to [batch_size]\n",
    "\n",
    "# Load models\n",
    "gen_model = Generator(noise_channels, image_channels, gen_features).to(device)\n",
    "disc_model = Discriminator(image_channels, disc_features).to(device)\n",
    "\n",
    "# Setup optimizers\n",
    "gen_optimizer = optim.Adam(gen_model.parameters(), lr=LEARNING_RATE, betas=(0.5, 0.999))\n",
    "disc_optimizer = optim.Adam(disc_model.parameters(), lr=LEARNING_RATE, betas=(0.5, 0.999))\n",
    "\n",
    "# Define loss function\n",
    "criterion = nn.BCELoss()\n",
    "\n",
    "# Set models to training mode\n",
    "gen_model.train()\n",
    "disc_model.train()\n",
    "\n",
    "# Define labels with smoothing\n",
    "fake_label = 0.1\n",
    "real_label = 0.9\n",
    "\n",
    "# Define fixed noise for consistent image generation\n",
    "fixed_noise = torch.randn(64, noise_channels, 1, 1).to(device)\n",
    "\n",
    "# TensorBoard writers\n",
    "writer_real = SummaryWriter(f\"runs/fashion/test_real\")\n",
    "writer_fake = SummaryWriter(f\"runs/fashion/test_fake\")\n",
    "\n",
    "# Loss tracking\n",
    "gen_losses = []\n",
    "disc_losses = []\n",
    "\n",
    "# Training loop\n",
    "print(\"Start training...\")\n",
    "step = 0\n",
    "\n",
    "for epoch in range(EPOCHS):\n",
    "    for batch_idx, (data, target) in enumerate(tqdm(dataloader, desc=f\"Epoch {epoch}\")):\n",
    "        data = data.to(device)\n",
    "        batch_size = data.shape[0]\n",
    "\n",
    "        # Train discriminator on real data\n",
    "        disc_model.zero_grad()\n",
    "        label = (torch.ones(batch_size) * real_label).to(device)\n",
    "        output = disc_model(data).reshape(-1)\n",
    "        real_disc_loss = criterion(output, label)\n",
    "        d_x = output.mean().item()\n",
    "\n",
    "        # Train discriminator on fake data\n",
    "        noise = torch.randn(batch_size, noise_channels, 1, 1, device=device)\n",
    "        fake = gen_model(noise)\n",
    "        label = (torch.ones(batch_size) * fake_label).to(device)\n",
    "        output = disc_model(fake.detach()).reshape(-1)\n",
    "        fake_disc_loss = criterion(output, label)\n",
    "\n",
    "        # Calculate discriminator loss\n",
    "        disc_loss = real_disc_loss + fake_disc_loss\n",
    "        disc_loss.backward()\n",
    "        disc_optimizer.step()\n",
    "\n",
    "        # Train generator\n",
    "        gen_model.zero_grad()\n",
    "        label = torch.ones(batch_size).to(device)\n",
    "        output = disc_model(fake).reshape(-1)\n",
    "        gen_loss = criterion(output, label)\n",
    "        gen_loss.backward()\n",
    "        gen_optimizer.step()\n",
    "\n",
    "        # Store losses\n",
    "        gen_losses.append(gen_loss.item())\n",
    "        disc_losses.append(disc_loss.item())\n",
    "\n",
    "        # Log losses and images\n",
    "        if batch_idx % 50 == 0:\n",
    "            step += 1\n",
    "            print(\n",
    "                f\"Epoch: {epoch} ===== Batch: {batch_idx}/{len(dataloader)} ===== \"\n",
    "                f\"Disc loss: {disc_loss:.4f} ===== Gen loss: {gen_loss:.4f}\"\n",
    "            )\n",
    "            with torch.no_grad():\n",
    "                fake_images = gen_model(fixed_noise)\n",
    "                img_grid_real = torchvision.utils.make_grid(data[:40], normalize=True)\n",
    "                img_grid_fake = torchvision.utils.make_grid(fake_images[:40], normalize=True)\n",
    "                writer_real.add_image(\"Real images\", img_grid_real, global_step=step)\n",
    "                writer_fake.add_image(\"Generated images\", img_grid_fake, global_step=step)\n",
    "\n",
    "    # Save generated images every 10 epochs or at epoch 1\n",
    "    if (epoch + 1) % 10 == 0 or epoch == 0:\n",
    "        with torch.no_grad():\n",
    "            fake_images = gen_model(fixed_noise).detach().cpu()\n",
    "        plt.figure(figsize=(10, 10))\n",
    "        for j in range(64):\n",
    "            plt.subplot(8, 8, j+1)\n",
    "            plt.imshow(fake_images[j].squeeze(), cmap='gray')\n",
    "            plt.axis('off')\n",
    "        plt.savefig(f'generated_images_epoch_{epoch+1}.png')\n",
    "        plt.close()\n",
    "\n",
    "# Plot losses\n",
    "plt.figure(figsize=(10, 5))\n",
    "plt.plot(gen_losses, label='Generator Loss')\n",
    "plt.plot(disc_losses, label='Discriminator Loss')\n",
    "plt.title('Generator and Discriminator Losses During Training')\n",
    "plt.xlabel('Iterations')\n",
    "plt.ylabel('Loss')\n",
    "plt.legend()\n",
    "plt.grid(True)\n",
    "plt.savefig('loss_plot.png')\n",
    "plt.close()"
   ]
  }
 ],
 "metadata": {
  "kaggle": {
   "accelerator": "nvidiaTeslaT4",
   "dataSources": [],
   "dockerImageVersionId": 31011,
   "isGpuEnabled": true,
   "isInternetEnabled": true,
   "language": "python",
   "sourceType": "notebook"
  },
  "kernelspec": {
   "display_name": "Python 3",
   "language": "python",
   "name": "python3"
  },
  "language_info": {
   "codemirror_mode": {
    "name": "ipython",
    "version": 3
   },
   "file_extension": ".py",
   "mimetype": "text/x-python",
   "name": "python",
   "nbconvert_exporter": "python",
   "pygments_lexer": "ipython3",
   "version": "3.11.11"
  },
  "papermill": {
   "default_parameters": {},
   "duration": 7417.416456,
   "end_time": "2025-04-23T15:03:37.678026",
   "environment_variables": {},
   "exception": null,
   "input_path": "__notebook__.ipynb",
   "output_path": "__notebook__.ipynb",
   "parameters": {},
   "start_time": "2025-04-23T13:00:00.261570",
   "version": "2.6.0"
  }
 },
 "nbformat": 4,
 "nbformat_minor": 5
}
